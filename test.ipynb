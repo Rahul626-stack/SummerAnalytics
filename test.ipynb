{
 "cells": [
  {
   "cell_type": "code",
   "execution_count": 4,
   "id": "78993fbc",
   "metadata": {},
   "outputs": [
    {
     "name": "stdout",
     "output_type": "stream",
     "text": [
      "Searching IntelX with name: Rahul Lalwani\n",
      "Searching IntelX with email: rahul.deepaklalwani8080@gmail.com\n",
      "Searching IntelX with phone: 9687715999\n",
      "\n",
      "Social Media Links from IntelX:\n"
     ]
    }
   ],
   "source": [
    "import requests\n",
    "\n",
    "# === Your IntelX API Key ===\n",
    "INTELX_API_KEY = \"d99ddea2-693f-426d-9326-b3a98f334a4c\"  # Replace with your actual key\n",
    "\n",
    "# === IntelX Search Function ===\n",
    "def search_intelx_social_links(query):\n",
    "    url = \"https://free.intelx.io/phonebook/search\"\n",
    "    headers = {\n",
    "        \"x-key\": INTELX_API_KEY,\n",
    "        \"Content-Type\": \"application/json\"\n",
    "    }\n",
    "    payload = {\n",
    "        \"term\": query,\n",
    "        \"maxresults\": 10,\n",
    "        \"media\": 0\n",
    "    }\n",
    "\n",
    "    try:\n",
    "        response = requests.post(url, headers=headers, json=payload)\n",
    "        results = []\n",
    "        if response.ok:\n",
    "            records = response.json().get(\"records\", [])\n",
    "            for record in records:\n",
    "                value = record.get(\"selectorvalue\", \"\")\n",
    "                if any(domain in value.lower() for domain in [\n",
    "                    \"facebook.com\", \"linkedin.com\", \"instagram.com\", \"twitter.com\", \"github.com\"\n",
    "                ]):\n",
    "                    results.append(value)\n",
    "        return list(set(results))  # Remove duplicates\n",
    "    except Exception as e:\n",
    "        print(f\"IntelX search failed for '{query}': {e}\")\n",
    "        return []\n",
    "\n",
    "# === Run Searches ===\n",
    "def find_social_links_from_intelx(name, email, phone):\n",
    "    print(f\"Searching IntelX with name: {name}\")\n",
    "    name_links = search_intelx_social_links(name)\n",
    "\n",
    "    print(f\"Searching IntelX with email: {email}\")\n",
    "    email_links = search_intelx_social_links(email)\n",
    "\n",
    "    print(f\"Searching IntelX with phone: {phone}\")\n",
    "    phone_links = search_intelx_social_links(phone)\n",
    "\n",
    "    all_links = list(set(name_links + email_links + phone_links))\n",
    "    return all_links\n",
    "\n",
    "# === Example ===\n",
    "if __name__ == \"__main__\":\n",
    "    name = \"Rahul Lalwani\"\n",
    "    email = \"rahul.deepaklalwani8080@gmail.com\"\n",
    "    phone = \"9687715999\"\n",
    "\n",
    "    social_links = find_social_links_from_intelx(name, email, phone)\n",
    "    print(\"\\nSocial Media Links from IntelX:\")\n",
    "    for link in social_links:\n",
    "        print(f\"- {link}\")\n"
   ]
  }
 ],
 "metadata": {
  "kernelspec": {
   "display_name": "Python 3 (ipykernel)",
   "language": "python",
   "name": "python3"
  },
  "language_info": {
   "codemirror_mode": {
    "name": "ipython",
    "version": 3
   },
   "file_extension": ".py",
   "mimetype": "text/x-python",
   "name": "python",
   "nbconvert_exporter": "python",
   "pygments_lexer": "ipython3",
   "version": "3.12.7"
  }
 },
 "nbformat": 4,
 "nbformat_minor": 5
}
